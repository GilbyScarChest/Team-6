{
 "cells": [
  {
   "cell_type": "code",
   "execution_count": 3,
   "metadata": {
    "slideshow": {
     "slide_type": "fragment"
    }
   },
   "outputs": [],
   "source": [
    "import requests\n",
    "import json\n",
    "import pandas as pd\n",
    "import numpy as np\n",
    "from pprint import pprint"
   ]
  },
  {
   "cell_type": "code",
   "execution_count": 4,
   "metadata": {
    "slideshow": {
     "slide_type": "slide"
    }
   },
   "outputs": [],
   "source": [
    "#TMDb requires the user to secure the movie ID's prior to accessing the \"details\" of movies so we must first get the ID's...\n",
    "url = \"https://api.themoviedb.org/3/search/movie?api_key=103eda796d3cfe749f9191293967253d&query=\"\n",
    "\n",
    "Marvel_Movies = [\n",
    "\"Iron+Man\",\n",
    "\"The+Incredible+Hulk\",\"Iron+Man+2\",\n",
    "\"Thor\",\"Captain+America:+The+First+Avenger\",\n",
    "\"The+Avengers\",\n",
    "\"Iron+Man+3\",\n",
    "\"Thor:+The+Dark+World\",\n",
    "\"Captain+America:+The+Winter+Soldier\",\n",
    "\"Guardians+of+the+Galaxy\",\n",
    "\"Avengers:+Age+of+Ultron\",\n",
    "\"Ant-Man\",\n",
    "\"Captain+America:+Civil+War\",\n",
    "\"Doctor+Strange\",\n",
    "\"Guardians+of+the+Galaxy+Vol.+2\",\n",
    "\"Spider-Man:+Homecoming\",\n",
    "\"Thor:+Ragnarok\",\n",
    "\"Black+Panther\",\n",
    "\"Avengers:+Infinity+War\",\n",
    "\"Ant-Man+and+the+Wasp\",\n",
    "\"Captain+Marvel\"]\n",
    "\n",
    "movie_ids = []\n",
    "\n",
    "for movie in Marvel_Movies:\n",
    "        movie_id = requests.get(url+movie).json()\n",
    "        movie_ids.append(movie_id['results'][0]['id'])"
   ]
  },
  {
   "cell_type": "code",
   "execution_count": 5,
   "metadata": {
    "slideshow": {
     "slide_type": "slide"
    }
   },
   "outputs": [
    {
     "data": {
      "text/html": [
       "<div>\n",
       "<style scoped>\n",
       "    .dataframe tbody tr th:only-of-type {\n",
       "        vertical-align: middle;\n",
       "    }\n",
       "\n",
       "    .dataframe tbody tr th {\n",
       "        vertical-align: top;\n",
       "    }\n",
       "\n",
       "    .dataframe thead th {\n",
       "        text-align: right;\n",
       "    }\n",
       "</style>\n",
       "<table border=\"1\" class=\"dataframe\">\n",
       "  <thead>\n",
       "    <tr style=\"text-align: right;\">\n",
       "      <th></th>\n",
       "      <th>Film</th>\n",
       "      <th>Film ID</th>\n",
       "    </tr>\n",
       "  </thead>\n",
       "  <tbody>\n",
       "    <tr>\n",
       "      <th>0</th>\n",
       "      <td>Iron+Man</td>\n",
       "      <td>1726</td>\n",
       "    </tr>\n",
       "    <tr>\n",
       "      <th>1</th>\n",
       "      <td>The+Incredible+Hulk</td>\n",
       "      <td>1724</td>\n",
       "    </tr>\n",
       "    <tr>\n",
       "      <th>2</th>\n",
       "      <td>Iron+Man+2</td>\n",
       "      <td>10138</td>\n",
       "    </tr>\n",
       "    <tr>\n",
       "      <th>3</th>\n",
       "      <td>Thor</td>\n",
       "      <td>10195</td>\n",
       "    </tr>\n",
       "    <tr>\n",
       "      <th>4</th>\n",
       "      <td>Captain+America:+The+First+Avenger</td>\n",
       "      <td>1771</td>\n",
       "    </tr>\n",
       "  </tbody>\n",
       "</table>\n",
       "</div>"
      ],
      "text/plain": [
       "                                 Film  Film ID\n",
       "0                            Iron+Man     1726\n",
       "1                 The+Incredible+Hulk     1724\n",
       "2                          Iron+Man+2    10138\n",
       "3                                Thor    10195\n",
       "4  Captain+America:+The+First+Avenger     1771"
      ]
     },
     "execution_count": 5,
     "metadata": {},
     "output_type": "execute_result"
    }
   ],
   "source": [
    "#create a data frame\n",
    "Marvel_dict_id = {\"Film\": Marvel_Movies, \"Film ID\":movie_ids}\n",
    "Marvel_ID = pd.DataFrame(Marvel_dict_id)\n",
    "Marvel_ID.head()"
   ]
  },
  {
   "cell_type": "code",
   "execution_count": 7,
   "metadata": {
    "slideshow": {
     "slide_type": "subslide"
    }
   },
   "outputs": [],
   "source": [
    "#after securing the movie ID's, we can use them to call the details of specific movie ID's\n",
    "details_url = \"https://api.themoviedb.org/3/movie/\"\n",
    "api_key=\"103eda796d3cfe749f9191293967253d\"\n",
    "\n",
    "budget = []\n",
    "revenue = []\n",
    "vote_average = []\n",
    "\n",
    "for i in Marvel_ID[\"Film ID\"]:\n",
    "        details = requests.get(f\"{details_url}{i}?api_key={api_key}\").json()\n",
    "        budget.append(details['budget'])\n",
    "        revenue.append(details['revenue'])\n",
    "        vote_average.append(details['vote_average'])\n"
   ]
  },
  {
   "cell_type": "code",
   "execution_count": 8,
   "metadata": {
    "slideshow": {
     "slide_type": "skip"
    }
   },
   "outputs": [],
   "source": [
    "#details"
   ]
  },
  {
   "cell_type": "code",
   "execution_count": 9,
   "metadata": {
    "scrolled": true,
    "slideshow": {
     "slide_type": "slide"
    }
   },
   "outputs": [
    {
     "data": {
      "text/html": [
       "<div>\n",
       "<style scoped>\n",
       "    .dataframe tbody tr th:only-of-type {\n",
       "        vertical-align: middle;\n",
       "    }\n",
       "\n",
       "    .dataframe tbody tr th {\n",
       "        vertical-align: top;\n",
       "    }\n",
       "\n",
       "    .dataframe thead th {\n",
       "        text-align: right;\n",
       "    }\n",
       "</style>\n",
       "<table border=\"1\" class=\"dataframe\">\n",
       "  <thead>\n",
       "    <tr style=\"text-align: right;\">\n",
       "      <th></th>\n",
       "      <th>Film</th>\n",
       "      <th>Budget</th>\n",
       "      <th>Box Office Sales (Global)</th>\n",
       "      <th>Rating</th>\n",
       "    </tr>\n",
       "  </thead>\n",
       "  <tbody>\n",
       "    <tr>\n",
       "      <th>0</th>\n",
       "      <td>Iron+Man</td>\n",
       "      <td>140000000</td>\n",
       "      <td>585174222</td>\n",
       "      <td>7.5</td>\n",
       "    </tr>\n",
       "    <tr>\n",
       "      <th>1</th>\n",
       "      <td>The+Incredible+Hulk</td>\n",
       "      <td>150000000</td>\n",
       "      <td>163712074</td>\n",
       "      <td>6.2</td>\n",
       "    </tr>\n",
       "    <tr>\n",
       "      <th>2</th>\n",
       "      <td>Iron+Man+2</td>\n",
       "      <td>200000000</td>\n",
       "      <td>623933331</td>\n",
       "      <td>6.8</td>\n",
       "    </tr>\n",
       "    <tr>\n",
       "      <th>3</th>\n",
       "      <td>Thor</td>\n",
       "      <td>150000000</td>\n",
       "      <td>449326618</td>\n",
       "      <td>6.7</td>\n",
       "    </tr>\n",
       "    <tr>\n",
       "      <th>4</th>\n",
       "      <td>Captain+America:+The+First+Avenger</td>\n",
       "      <td>140000000</td>\n",
       "      <td>370569774</td>\n",
       "      <td>6.8</td>\n",
       "    </tr>\n",
       "  </tbody>\n",
       "</table>\n",
       "</div>"
      ],
      "text/plain": [
       "                                 Film     Budget  Box Office Sales (Global)  \\\n",
       "0                            Iron+Man  140000000                  585174222   \n",
       "1                 The+Incredible+Hulk  150000000                  163712074   \n",
       "2                          Iron+Man+2  200000000                  623933331   \n",
       "3                                Thor  150000000                  449326618   \n",
       "4  Captain+America:+The+First+Avenger  140000000                  370569774   \n",
       "\n",
       "   Rating  \n",
       "0     7.5  \n",
       "1     6.2  \n",
       "2     6.8  \n",
       "3     6.7  \n",
       "4     6.8  "
      ]
     },
     "execution_count": 9,
     "metadata": {},
     "output_type": "execute_result"
    }
   ],
   "source": [
    "#create a data frame\n",
    "Marvel_dict = {\"Film\": Marvel_Movies,\n",
    "                \"Budget\": budget,\n",
    "                \"Box Office Sales (Global)\": revenue,\n",
    "                \"Rating\": vote_average}\n",
    "\n",
    "Marvel_df = pd.DataFrame(Marvel_dict)\n",
    "Marvel_df.head()"
   ]
  },
  {
   "cell_type": "code",
   "execution_count": 10,
   "metadata": {
    "scrolled": true,
    "slideshow": {
     "slide_type": "slide"
    }
   },
   "outputs": [
    {
     "data": {
      "text/html": [
       "<div>\n",
       "<style scoped>\n",
       "    .dataframe tbody tr th:only-of-type {\n",
       "        vertical-align: middle;\n",
       "    }\n",
       "\n",
       "    .dataframe tbody tr th {\n",
       "        vertical-align: top;\n",
       "    }\n",
       "\n",
       "    .dataframe thead th {\n",
       "        text-align: right;\n",
       "    }\n",
       "</style>\n",
       "<table border=\"1\" class=\"dataframe\">\n",
       "  <thead>\n",
       "    <tr style=\"text-align: right;\">\n",
       "      <th></th>\n",
       "      <th>Film</th>\n",
       "      <th>Budget</th>\n",
       "      <th>Box Office Sales (Global)</th>\n",
       "      <th>Rating</th>\n",
       "      <th>Films</th>\n",
       "    </tr>\n",
       "  </thead>\n",
       "  <tbody>\n",
       "    <tr>\n",
       "      <th>0</th>\n",
       "      <td>Iron+Man</td>\n",
       "      <td>140000000</td>\n",
       "      <td>585174222</td>\n",
       "      <td>7.5</td>\n",
       "      <td>Iron Man</td>\n",
       "    </tr>\n",
       "    <tr>\n",
       "      <th>1</th>\n",
       "      <td>The+Incredible+Hulk</td>\n",
       "      <td>150000000</td>\n",
       "      <td>163712074</td>\n",
       "      <td>6.2</td>\n",
       "      <td>The Incredible Hulk</td>\n",
       "    </tr>\n",
       "    <tr>\n",
       "      <th>2</th>\n",
       "      <td>Iron+Man+2</td>\n",
       "      <td>200000000</td>\n",
       "      <td>623933331</td>\n",
       "      <td>6.8</td>\n",
       "      <td>Iron Man 2</td>\n",
       "    </tr>\n",
       "    <tr>\n",
       "      <th>3</th>\n",
       "      <td>Thor</td>\n",
       "      <td>150000000</td>\n",
       "      <td>449326618</td>\n",
       "      <td>6.7</td>\n",
       "      <td>Thor</td>\n",
       "    </tr>\n",
       "    <tr>\n",
       "      <th>4</th>\n",
       "      <td>Captain+America:+The+First+Avenger</td>\n",
       "      <td>140000000</td>\n",
       "      <td>370569774</td>\n",
       "      <td>6.8</td>\n",
       "      <td>Captain America  The First Avenger</td>\n",
       "    </tr>\n",
       "  </tbody>\n",
       "</table>\n",
       "</div>"
      ],
      "text/plain": [
       "                                 Film     Budget  Box Office Sales (Global)  \\\n",
       "0                            Iron+Man  140000000                  585174222   \n",
       "1                 The+Incredible+Hulk  150000000                  163712074   \n",
       "2                          Iron+Man+2  200000000                  623933331   \n",
       "3                                Thor  150000000                  449326618   \n",
       "4  Captain+America:+The+First+Avenger  140000000                  370569774   \n",
       "\n",
       "   Rating                               Films  \n",
       "0     7.5                            Iron Man  \n",
       "1     6.2                 The Incredible Hulk  \n",
       "2     6.8                          Iron Man 2  \n",
       "3     6.7                                Thor  \n",
       "4     6.8  Captain America  The First Avenger  "
      ]
     },
     "execution_count": 10,
     "metadata": {},
     "output_type": "execute_result"
    }
   ],
   "source": [
    "#remove the \"+\" and replace with \" \"\n",
    "Marvel_df[\"Films\"] = Marvel_df[\"Film\"].str.replace(\"\\W\", \" \")\n",
    "Marvel_df.head()"
   ]
  },
  {
   "cell_type": "code",
   "execution_count": 11,
   "metadata": {
    "scrolled": true,
    "slideshow": {
     "slide_type": "slide"
    }
   },
   "outputs": [],
   "source": [
    "#drop the first column\n",
    "Marvel_df.drop(\"Film\", axis=1, inplace=True)\n"
   ]
  },
  {
   "cell_type": "code",
   "execution_count": 13,
   "metadata": {
    "slideshow": {
     "slide_type": "slide"
    }
   },
   "outputs": [
    {
     "data": {
      "text/html": [
       "<div>\n",
       "<style scoped>\n",
       "    .dataframe tbody tr th:only-of-type {\n",
       "        vertical-align: middle;\n",
       "    }\n",
       "\n",
       "    .dataframe tbody tr th {\n",
       "        vertical-align: top;\n",
       "    }\n",
       "\n",
       "    .dataframe thead th {\n",
       "        text-align: right;\n",
       "    }\n",
       "</style>\n",
       "<table border=\"1\" class=\"dataframe\">\n",
       "  <thead>\n",
       "    <tr style=\"text-align: right;\">\n",
       "      <th></th>\n",
       "      <th>Films</th>\n",
       "      <th>Budget</th>\n",
       "      <th>Box Office Sales (Global)</th>\n",
       "      <th>Rating</th>\n",
       "    </tr>\n",
       "  </thead>\n",
       "  <tbody>\n",
       "    <tr>\n",
       "      <th>0</th>\n",
       "      <td>Iron Man</td>\n",
       "      <td>140000000</td>\n",
       "      <td>585174222</td>\n",
       "      <td>7.5</td>\n",
       "    </tr>\n",
       "    <tr>\n",
       "      <th>1</th>\n",
       "      <td>The Incredible Hulk</td>\n",
       "      <td>150000000</td>\n",
       "      <td>163712074</td>\n",
       "      <td>6.2</td>\n",
       "    </tr>\n",
       "    <tr>\n",
       "      <th>2</th>\n",
       "      <td>Iron Man 2</td>\n",
       "      <td>200000000</td>\n",
       "      <td>623933331</td>\n",
       "      <td>6.8</td>\n",
       "    </tr>\n",
       "    <tr>\n",
       "      <th>3</th>\n",
       "      <td>Thor</td>\n",
       "      <td>150000000</td>\n",
       "      <td>449326618</td>\n",
       "      <td>6.7</td>\n",
       "    </tr>\n",
       "    <tr>\n",
       "      <th>4</th>\n",
       "      <td>Captain America  The First Avenger</td>\n",
       "      <td>140000000</td>\n",
       "      <td>370569774</td>\n",
       "      <td>6.8</td>\n",
       "    </tr>\n",
       "  </tbody>\n",
       "</table>\n",
       "</div>"
      ],
      "text/plain": [
       "                                Films     Budget  Box Office Sales (Global)  \\\n",
       "0                            Iron Man  140000000                  585174222   \n",
       "1                 The Incredible Hulk  150000000                  163712074   \n",
       "2                          Iron Man 2  200000000                  623933331   \n",
       "3                                Thor  150000000                  449326618   \n",
       "4  Captain America  The First Avenger  140000000                  370569774   \n",
       "\n",
       "   Rating  \n",
       "0     7.5  \n",
       "1     6.2  \n",
       "2     6.8  \n",
       "3     6.7  \n",
       "4     6.8  "
      ]
     },
     "execution_count": 13,
     "metadata": {},
     "output_type": "execute_result"
    }
   ],
   "source": [
    "#reorder columns\n",
    "Marvel_df = Marvel_df[[\"Films\", \"Budget\", \"Box Office Sales (Global)\", \"Rating\"]]\n",
    "Marvel_df.head()"
   ]
  },
  {
   "cell_type": "code",
   "execution_count": null,
   "metadata": {
    "slideshow": {
     "slide_type": "skip"
    }
   },
   "outputs": [],
   "source": [
    "Marvel_df.to_csv(\"TMDb_Data.csv\", index=False)"
   ]
  },
  {
   "cell_type": "code",
   "execution_count": 14,
   "metadata": {
    "slideshow": {
     "slide_type": "slide"
    }
   },
   "outputs": [
    {
     "data": {
      "text/html": [
       "<div>\n",
       "<style scoped>\n",
       "    .dataframe tbody tr th:only-of-type {\n",
       "        vertical-align: middle;\n",
       "    }\n",
       "\n",
       "    .dataframe tbody tr th {\n",
       "        vertical-align: top;\n",
       "    }\n",
       "\n",
       "    .dataframe thead th {\n",
       "        text-align: right;\n",
       "    }\n",
       "</style>\n",
       "<table border=\"1\" class=\"dataframe\">\n",
       "  <thead>\n",
       "    <tr style=\"text-align: right;\">\n",
       "      <th></th>\n",
       "      <th>Budget</th>\n",
       "      <th>Box Office Sales (Global)</th>\n",
       "      <th>Rating</th>\n",
       "    </tr>\n",
       "  </thead>\n",
       "  <tbody>\n",
       "    <tr>\n",
       "      <th>Budget</th>\n",
       "      <td>1.000000</td>\n",
       "      <td>0.858775</td>\n",
       "      <td>0.488931</td>\n",
       "    </tr>\n",
       "    <tr>\n",
       "      <th>Box Office Sales (Global)</th>\n",
       "      <td>0.858775</td>\n",
       "      <td>1.000000</td>\n",
       "      <td>0.657834</td>\n",
       "    </tr>\n",
       "    <tr>\n",
       "      <th>Rating</th>\n",
       "      <td>0.488931</td>\n",
       "      <td>0.657834</td>\n",
       "      <td>1.000000</td>\n",
       "    </tr>\n",
       "  </tbody>\n",
       "</table>\n",
       "</div>"
      ],
      "text/plain": [
       "                             Budget  Box Office Sales (Global)    Rating\n",
       "Budget                     1.000000                   0.858775  0.488931\n",
       "Box Office Sales (Global)  0.858775                   1.000000  0.657834\n",
       "Rating                     0.488931                   0.657834  1.000000"
      ]
     },
     "execution_count": 14,
     "metadata": {},
     "output_type": "execute_result"
    }
   ],
   "source": [
    "Marvel_df.corr()"
   ]
  },
  {
   "cell_type": "code",
   "execution_count": 19,
   "metadata": {
    "slideshow": {
     "slide_type": "skip"
    }
   },
   "outputs": [
    {
     "data": {
      "text/html": [
       "<div>\n",
       "<style scoped>\n",
       "    .dataframe tbody tr th:only-of-type {\n",
       "        vertical-align: middle;\n",
       "    }\n",
       "\n",
       "    .dataframe tbody tr th {\n",
       "        vertical-align: top;\n",
       "    }\n",
       "\n",
       "    .dataframe thead th {\n",
       "        text-align: right;\n",
       "    }\n",
       "</style>\n",
       "<table border=\"1\" class=\"dataframe\">\n",
       "  <thead>\n",
       "    <tr style=\"text-align: right;\">\n",
       "      <th></th>\n",
       "      <th>Rating</th>\n",
       "      <th>Box Office Sales (Global)</th>\n",
       "    </tr>\n",
       "  </thead>\n",
       "  <tbody>\n",
       "    <tr>\n",
       "      <th>Rating</th>\n",
       "      <td>1.000000</td>\n",
       "      <td>0.657834</td>\n",
       "    </tr>\n",
       "    <tr>\n",
       "      <th>Box Office Sales (Global)</th>\n",
       "      <td>0.657834</td>\n",
       "      <td>1.000000</td>\n",
       "    </tr>\n",
       "  </tbody>\n",
       "</table>\n",
       "</div>"
      ],
      "text/plain": [
       "                             Rating  Box Office Sales (Global)\n",
       "Rating                     1.000000                   0.657834\n",
       "Box Office Sales (Global)  0.657834                   1.000000"
      ]
     },
     "execution_count": 19,
     "metadata": {},
     "output_type": "execute_result"
    }
   ],
   "source": [
    "Rating_corr = Marvel_df[[ \"Rating\", \"Box Office Sales (Global)\"]]\n",
    "Rating_corr.corr()"
   ]
  },
  {
   "cell_type": "code",
   "execution_count": null,
   "metadata": {},
   "outputs": [],
   "source": []
  }
 ],
 "metadata": {
  "celltoolbar": "Slideshow",
  "kernelspec": {
   "display_name": "Python 3",
   "language": "python",
   "name": "python3"
  },
  "language_info": {
   "codemirror_mode": {
    "name": "ipython",
    "version": 3
   },
   "file_extension": ".py",
   "mimetype": "text/x-python",
   "name": "python",
   "nbconvert_exporter": "python",
   "pygments_lexer": "ipython3",
   "version": "3.7.1"
  }
 },
 "nbformat": 4,
 "nbformat_minor": 2
}
